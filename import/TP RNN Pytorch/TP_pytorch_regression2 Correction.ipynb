{
 "cells": [
  {
   "cell_type": "markdown",
   "metadata": {},
   "source": [
    "# Regression avec PyTorch"
   ]
  },
  {
   "cell_type": "code",
   "execution_count": 1,
   "metadata": {
    "collapsed": true
   },
   "outputs": [],
   "source": [
    "%matplotlib inline\n",
    "import torch as t\n",
    "from torch.autograd import Variable\n",
    "import numpy as np\n",
    "import matplotlib.pyplot as plt"
   ]
  },
  {
   "cell_type": "markdown",
   "metadata": {},
   "source": [
    "#### pytorch est un outil similaire a numpy. Il permet de faire des calculs sur des tableaux 1D,2D,3D,4D (ou plus). En pytorch, on appelle ces tableaux des tenseurs.\n",
    "\n",
    "#### La principale difference entre les tenseurs pyTorch et les tableaux  numpy est que les tenseurs pyTorch peuvent etre envoyes sur une carte graphique pour etre traites plus rapidement"
   ]
  },
  {
   "cell_type": "markdown",
   "metadata": {},
   "source": [
    "## Partie 1 : les tenseurs en pyTorch"
   ]
  },
  {
   "cell_type": "code",
   "execution_count": 2,
   "metadata": {
    "collapsed": true
   },
   "outputs": [],
   "source": [
    "# on cree:\n",
    "#     un vecteur de taille 2,\n",
    "x1 = t.Tensor([10,20])\n",
    "\n",
    "#     une matrix 2x1,\n",
    "x2 = t.Tensor([[10],[20]])\n",
    "\n",
    "#     une matrice 1x2,\n",
    "x3 = t.Tensor([[10,20]])\n",
    "\n",
    "#     une matrce 3x4 remplie de zeros\n",
    "x4 = t.zeros(3,4)\n",
    "\n",
    "#     une matrice aleatoire (loi normale) 2x2\n",
    "x5 = t.randn(2,2)"
   ]
  },
  {
   "cell_type": "markdown",
   "metadata": {},
   "source": [
    "Affichez dans la cellule ci-dessous les differents tableaux crees ci-dessus, pour bien comprendre ces commandes"
   ]
  },
  {
   "cell_type": "code",
   "execution_count": null,
   "metadata": {
    "collapsed": true
   },
   "outputs": [],
   "source": []
  },
  {
   "cell_type": "markdown",
   "metadata": {},
   "source": [
    "#### comme avec numpy, on peut faire des tas d'operations sur ces tableaux"
   ]
  },
  {
   "cell_type": "code",
   "execution_count": null,
   "metadata": {
    "collapsed": true
   },
   "outputs": [],
   "source": [
    "# j'ajoute 3 a toutes les cases du tableau x1\n",
    "x5 = x1 + 3\n",
    "# j'eleve au carre toutes les cases du tableau x4\n",
    "x6 = x5 ** 2"
   ]
  },
  {
   "cell_type": "markdown",
   "metadata": {},
   "source": [
    "Affichez dans la cellule ci-dessous les differents tableaux crees ci-dessus, pour bien comprendre ces commandes"
   ]
  },
  {
   "cell_type": "code",
   "execution_count": null,
   "metadata": {
    "collapsed": true
   },
   "outputs": [],
   "source": []
  },
  {
   "cell_type": "markdown",
   "metadata": {},
   "source": [
    "#### On peut convertir des donnees entre numpy et pytorch"
   ]
  },
  {
   "cell_type": "code",
   "execution_count": null,
   "metadata": {
    "collapsed": true
   },
   "outputs": [],
   "source": [
    "# conversion d'un tableau numpy vers pytorch\n",
    "z1  = np.zeros( (2,2) )\n",
    "x6 = t.from_numpy( z1 )\n",
    "\n",
    "# conversion d'un tableau pytorch vers numpy\n",
    "z2 = x6.numpy()"
   ]
  },
  {
   "cell_type": "markdown",
   "metadata": {},
   "source": [
    "Affichez dans la cellule ci-dessous les differents tableaux crees ci-dessus, pour bien comprendre ces commandes"
   ]
  },
  {
   "cell_type": "code",
   "execution_count": null,
   "metadata": {
    "collapsed": true
   },
   "outputs": [],
   "source": []
  },
  {
   "cell_type": "markdown",
   "metadata": {},
   "source": [
    "#### Operations utiles de pyTorch, similaires aux operations disponibles dans numpy"
   ]
  },
  {
   "cell_type": "code",
   "execution_count": null,
   "metadata": {
    "collapsed": true
   },
   "outputs": [],
   "source": [
    "# transposition\n",
    "x7 = x2.t()\n",
    "\n",
    "# changement de forme (comme reshape en numpy)\n",
    "# ici, on convertit une matrice 1x2 en matice 2x1\n",
    "x8 = x7.view(2,1)\n",
    "\n",
    "\n",
    "# remplir de zero un tableau existant\n",
    "x6.zero_()\n",
    "\n",
    "# multiplication de matrice\n",
    "x9 = t.mm( x8 , x7 )"
   ]
  },
  {
   "cell_type": "markdown",
   "metadata": {},
   "source": [
    "Affichez dans la cellule ci-dessous les differents tableaux crees ci-dessus, pour bien comprendre ces commandes"
   ]
  },
  {
   "cell_type": "code",
   "execution_count": null,
   "metadata": {
    "collapsed": true
   },
   "outputs": [],
   "source": []
  },
  {
   "cell_type": "code",
   "execution_count": null,
   "metadata": {
    "collapsed": true
   },
   "outputs": [],
   "source": [
    "# acceder aux lignes, colonnes, et elements d'un tenseur, c'est comme avec numpy\n",
    "print(x9[0,:],x9[:,0],x9[1,1])"
   ]
  },
  {
   "cell_type": "markdown",
   "metadata": {},
   "source": [
    "#### exercice:\n",
    "Creez un tenseur 10x10 rempli avec des uns,\n",
    "mettez des deux sur la diagonale, et elevez-le au carre, et affichez le resultat comme un tableau numpy"
   ]
  },
  {
   "cell_type": "code",
   "execution_count": 5,
   "metadata": {},
   "outputs": [
    {
     "name": "stdout",
     "output_type": "stream",
     "text": [
      "[[ 4.  1.  1.  1.  1.  1.  1.  1.  1.  1.]\n",
      " [ 1.  4.  1.  1.  1.  1.  1.  1.  1.  1.]\n",
      " [ 1.  1.  4.  1.  1.  1.  1.  1.  1.  1.]\n",
      " [ 1.  1.  1.  4.  1.  1.  1.  1.  1.  1.]\n",
      " [ 1.  1.  1.  1.  4.  1.  1.  1.  1.  1.]\n",
      " [ 1.  1.  1.  1.  1.  4.  1.  1.  1.  1.]\n",
      " [ 1.  1.  1.  1.  1.  1.  4.  1.  1.  1.]\n",
      " [ 1.  1.  1.  1.  1.  1.  1.  4.  1.  1.]\n",
      " [ 1.  1.  1.  1.  1.  1.  1.  1.  4.  1.]\n",
      " [ 1.  1.  1.  1.  1.  1.  1.  1.  1.  4.]]\n"
     ]
    }
   ],
   "source": [
    "x = t.zeros(10,10)+1\n",
    "x2= x + t.diag(t.ones(10))\n",
    "x3= x2**2\n",
    "print(x3.numpy())"
   ]
  },
  {
   "cell_type": "markdown",
   "metadata": {},
   "source": [
    "## Partie 2 : les variables en pyTorch\n",
    "\n",
    "(cette partie est tres succincte. pour d'autres infos, voir ici: http://pytorch.org/tutorials/beginner/blitz/autograd_tutorial.html )\n",
    "\n",
    "En pytorch, une variable est une boite qui contient un tenseur."
   ]
  },
  {
   "cell_type": "code",
   "execution_count": null,
   "metadata": {
    "collapsed": true
   },
   "outputs": [],
   "source": [
    "x1 = t.Tensor([[10,20]])\n",
    "v1 = Variable( x1 )  # on aurait pu ecrire directement v1=Variable(t.Tensor([10,20]))\n",
    "\n",
    "print(v1)"
   ]
  },
  {
   "cell_type": "markdown",
   "metadata": {},
   "source": [
    "on peut recupere le tenseur a l'interieur de la boite de cette facon:"
   ]
  },
  {
   "cell_type": "code",
   "execution_count": null,
   "metadata": {
    "collapsed": true
   },
   "outputs": [],
   "source": [
    "d1 = v1.data\n",
    "print(d1)"
   ]
  },
  {
   "cell_type": "markdown",
   "metadata": {},
   "source": [
    "Les operations sur les variables pyTorch sont les *memes* que celles sur les tenseurs (addition, multiplication, transposition, conversion, etc..)."
   ]
  },
  {
   "cell_type": "code",
   "execution_count": null,
   "metadata": {
    "collapsed": true
   },
   "outputs": [],
   "source": [
    "v2 = (v1 ** 2).t()\n",
    "print( v2 )"
   ]
  },
  {
   "cell_type": "markdown",
   "metadata": {},
   "source": [
    "On peut faire ces memes operations sur les tenseurs associes aux variables, mais ces operations ne seront pas enregistrees dans le graphe de computation"
   ]
  },
  {
   "cell_type": "code",
   "execution_count": null,
   "metadata": {
    "collapsed": true
   },
   "outputs": [],
   "source": [
    "t10 = (v1.data ** 2).t()\n",
    "print(t10)    # t10 est un tenseur, pas une variable, donc on ne peut pas calculer une derivee"
   ]
  },
  {
   "cell_type": "markdown",
   "metadata": {},
   "source": [
    "L'interet des variables pyTorch est que toutes les operations faites sur ces variables sont enregistrées (sous la forme d'un graphe de computation, mais c'est transparent pour vous).\n",
    "\n",
    "Donc pytorch peut calculer une derivee ou un gradient automatiquement si vous le souhaitez a partir de ce graphe.\n",
    "\n",
    "Un exemple de ce type de graphe est visible ici: https://cdn-images-1.medium.com/max/1600/1*5PLIVNA5fIqEC8-kZ260KQ.gif\n",
    "\n",
    "Pour indiquer qu'on voudra plus tard la derivee par rapport a une variable donnee, cette variable doit etre cree avec l'option *requires_grad=True*"
   ]
  },
  {
   "cell_type": "markdown",
   "metadata": {},
   "source": [
    "Par exemple, calculons (v-20)^2, pour v=10."
   ]
  },
  {
   "cell_type": "code",
   "execution_count": null,
   "metadata": {
    "collapsed": true
   },
   "outputs": [],
   "source": [
    "v1 = Variable( t.Tensor([10]) , requires_grad=True)"
   ]
  },
  {
   "cell_type": "code",
   "execution_count": null,
   "metadata": {
    "collapsed": true
   },
   "outputs": [],
   "source": [
    "v2 = (v1 - 20) ** 2\n",
    "print('valeur de v2=',v2)"
   ]
  },
  {
   "cell_type": "markdown",
   "metadata": {},
   "source": [
    "Maintenant, demandons a pyTorch de deriver v2, comme si v2 etait une fonction de v1."
   ]
  },
  {
   "cell_type": "code",
   "execution_count": null,
   "metadata": {
    "collapsed": true
   },
   "outputs": [],
   "source": [
    "# ici, je demander de calculer la derivee de v2 par rapport a toutes les variables\n",
    "v2.backward()"
   ]
  },
  {
   "cell_type": "markdown",
   "metadata": {},
   "source": [
    "* La derivee de v2 par rapport a v1 est disponible dans v1.grad.\n",
    "* la commande backward va calculer le gradient et l'ajouter a v1.grad."
   ]
  },
  {
   "cell_type": "code",
   "execution_count": null,
   "metadata": {
    "collapsed": true
   },
   "outputs": [],
   "source": [
    "print(v1.grad)"
   ]
  },
  {
   "cell_type": "markdown",
   "metadata": {},
   "source": [
    "Notez que v1.grad est elle-meme une variable. On peut donc acceder au tenseur associé"
   ]
  },
  {
   "cell_type": "code",
   "execution_count": null,
   "metadata": {
    "collapsed": true
   },
   "outputs": [],
   "source": [
    "print( v1.grad.data )"
   ]
  },
  {
   "cell_type": "markdown",
   "metadata": {},
   "source": [
    "si je refais exactement les memes operations, le nouveau gradient, identique a l'ancien, est rajoute a v1.grad:"
   ]
  },
  {
   "cell_type": "code",
   "execution_count": null,
   "metadata": {
    "collapsed": true
   },
   "outputs": [],
   "source": [
    "v2 = (v1 - 20) ** 2\n",
    "v2.backward()\n",
    "print(v1.grad)"
   ]
  },
  {
   "cell_type": "markdown",
   "metadata": {},
   "source": [
    "Si on calcule le gradient plusieurs fois, il faut donc remettre a zero le tenseur du gradient a chaque fois"
   ]
  },
  {
   "cell_type": "code",
   "execution_count": null,
   "metadata": {
    "collapsed": true
   },
   "outputs": [],
   "source": [
    "v1.grad.data.zero_()\n",
    "v2 = (v1 - 20) ** 2\n",
    "v2.backward()\n",
    "print(v1.grad)"
   ]
  },
  {
   "cell_type": "markdown",
   "metadata": {},
   "source": [
    "## Partie 3 - la descente de gradient"
   ]
  },
  {
   "cell_type": "markdown",
   "metadata": {},
   "source": [
    "Attention, lorsque vous executez backward, le graphe de computation est efface (sauf les variables que vous avez crees). Donc pour relancer backward, il faut relancer les calculs aussi"
   ]
  },
  {
   "cell_type": "code",
   "execution_count": null,
   "metadata": {
    "collapsed": true
   },
   "outputs": [],
   "source": [
    "# descente de gradient\n",
    "v1 = Variable( t.Tensor([10]) , requires_grad=True)\n",
    "for i in range(500):\n",
    "    v2 = (v1 - 20) ** 2\n",
    "    v2.backward()\n",
    "    v1.data -= 0.01*v1.grad.data   # on ne veut pas enregistrer ca dans le calcul du gradient\n",
    "    v1.grad.data.zero_()"
   ]
  },
  {
   "cell_type": "code",
   "execution_count": null,
   "metadata": {
    "collapsed": true
   },
   "outputs": [],
   "source": [
    "print(v1)"
   ]
  },
  {
   "cell_type": "markdown",
   "metadata": {},
   "source": [
    "On peut faire la meme chose en mettant le calcul de v2 dans une fonction et en mettant un pas de descente de gradient dans une fonction"
   ]
  },
  {
   "cell_type": "code",
   "execution_count": null,
   "metadata": {
    "collapsed": true
   },
   "outputs": [],
   "source": [
    "def mafonction(v):\n",
    "    return (v - 20) ** 2\n",
    "\n",
    "def descendGradient(v):\n",
    "    v1.data -= 0.01*v1.grad.data   # on ne veut pas enregistrer ca dans le calcul du gradient\n",
    "    v1.grad.data.zero_()\n",
    "\n",
    "v1 = Variable( t.Tensor([10]) , requires_grad=True)\n",
    "\n",
    "for i in range(500):\n",
    "    v2 = mafonction(v1)\n",
    "    \n",
    "    v2.backward()\n",
    "    \n",
    "    descendGradient(v1)\n",
    "\n",
    "print(v1)"
   ]
  },
  {
   "cell_type": "markdown",
   "metadata": {},
   "source": [
    "#### Exercice 1\n",
    "\n",
    "On veut coder une descente de gradient sur fonction:\n",
    "\n",
    "f(theta) = sum (theta-xi)^2\n",
    "avec x=(10,20,30,40,50,60,70,80,90)\n",
    "\n",
    "autrement dit, on a f(theta)=(theta-10)^2 + (theta-20)^2 + (theta-30)^2 + ...\n",
    "\n",
    "Ecrivez cela en pyTorch"
   ]
  },
  {
   "cell_type": "markdown",
   "metadata": {},
   "source": [
    "##### Je propose deux corrections possibles a cet exercice\n",
    "##### correction 1"
   ]
  },
  {
   "cell_type": "code",
   "execution_count": 9,
   "metadata": {},
   "outputs": [
    {
     "name": "stdout",
     "output_type": "stream",
     "text": [
      "Variable containing:\n",
      " 50.0000\n",
      "[torch.FloatTensor of size 1]\n",
      "\n"
     ]
    }
   ],
   "source": [
    "x = Variable(t.Tensor([10,20,30,40,50,60,70,80,90]))\n",
    "theta = Variable(t.Tensor([0]),requires_grad=True)\n",
    "\n",
    "for epoch in range(100):\n",
    "    f = t.sum((theta-x)**2)\n",
    "    f.backward()\n",
    "    theta.data -= 0.1 * theta.grad.data\n",
    "    theta.grad.data.zero_()\n",
    "\n",
    "print(theta)"
   ]
  },
  {
   "cell_type": "markdown",
   "metadata": {},
   "source": [
    "##### correction 2"
   ]
  },
  {
   "cell_type": "code",
   "execution_count": 10,
   "metadata": {},
   "outputs": [
    {
     "name": "stdout",
     "output_type": "stream",
     "text": [
      "Variable containing:\n",
      " 50.0000\n",
      "[torch.FloatTensor of size 1]\n",
      "\n"
     ]
    }
   ],
   "source": [
    "x = Variable(t.Tensor([10,20,30,40,50,60,70,80,90]))\n",
    "theta = Variable(t.Tensor([0]),requires_grad=True)\n",
    "\n",
    "for epoch in range(100):\n",
    "    \n",
    "    f = Variable(t.Tensor([0]))\n",
    "    \n",
    "    for i in range(9):\n",
    "        f = f + (theta-x[i])**2\n",
    "    \n",
    "    f.backward()\n",
    "    theta.data -= 0.1 * theta.grad.data\n",
    "    theta.grad.data.zero_()\n",
    "\n",
    "print(theta)"
   ]
  },
  {
   "cell_type": "markdown",
   "metadata": {},
   "source": [
    "#### Exercice 2 (regression lineaire)\n",
    "\n",
    "Soit les donnees suivantes, generees aleatoirement:"
   ]
  },
  {
   "cell_type": "code",
   "execution_count": 12,
   "metadata": {},
   "outputs": [
    {
     "data": {
      "text/plain": [
       "<matplotlib.collections.PathCollection at 0x11476c588>"
      ]
     },
     "execution_count": 12,
     "metadata": {},
     "output_type": "execute_result"
    },
    {
     "data": {
      "image/png": "[encoded data removed]",
      "text/plain": [
       "<matplotlib.figure.Figure at 0x10d3db518>"
      ]
     },
     "metadata": {},
     "output_type": "display_data"
    }
   ],
   "source": [
    "x = t.randn(100)\n",
    "y = t.sin(x/2+1)+4\n",
    "plt.scatter(x.numpy(),y.numpy())"
   ]
  },
  {
   "cell_type": "markdown",
   "metadata": {},
   "source": [
    "On veut faire une regression lineaire simple sur ces donnees. Pour rappel, en regression lineaire simple, on defini deux parametres beta0 et beta1, et pour un valeur xi donnee, la prediction est obtenue en faisant zi = beta0+beta1.xi\n",
    "De meme l'erreur totale de prediction est la somme (yi-zi)^2 pour tous les i.\n",
    "\n",
    "Vous ferez ceci:\n",
    "* On va definir deux parametres pour la regression linéaire: beta0 et beta1\n",
    "* definissez Z, la prediction donnee par la regression lineaire pour chaque point.\n",
    "* definissez E, l'erreur de prediction\n",
    "* appliquez l'algorithme de descente de gradient pour minimiser E, et affichez le resultat"
   ]
  },
  {
   "cell_type": "code",
   "execution_count": 37,
   "metadata": {},
   "outputs": [
    {
     "data": {
      "text/plain": [
       "<matplotlib.collections.PathCollection at 0x115571e48>"
      ]
     },
     "execution_count": 37,
     "metadata": {},
     "output_type": "execute_result"
    },
    {
     "data": {
      "image/png": "[encoded data removed]",
      "text/plain": [
       "<matplotlib.figure.Figure at 0x115499630>"
      ]
     },
     "metadata": {},
     "output_type": "display_data"
    }
   ],
   "source": [
    "## Correction\n",
    "\n",
    "xx = Variable(x)\n",
    "yy = Variable(y)\n",
    "\n",
    "beta0 = Variable(t.Tensor([0]),requires_grad=True)\n",
    "beta1 = Variable(t.Tensor([0]),requires_grad=True)\n",
    "\n",
    "for epoch in range(100):\n",
    "    z = beta0+beta1*xx\n",
    "    e = t.sum((yy-z)**2)\n",
    "    \n",
    "    e.backward()\n",
    "\n",
    "    beta0.data -= 0.001 * beta0.grad.data\n",
    "    beta1.data -= 0.001 * beta1.grad.data\n",
    "\n",
    "    beta0.grad.data.zero_()\n",
    "    beta1.grad.data.zero_()\n",
    "\n",
    "plt.scatter(x.numpy(),y.numpy())\n",
    "plt.scatter(x.numpy(),z.data.numpy())"
   ]
  },
  {
   "cell_type": "markdown",
   "metadata": {},
   "source": [
    "#### Exercice 3 (regression logistique)\n",
    "\n",
    "Implementez la regression logistique sur l'exemple vu en TD (le tableau de 6 donnees + la donnee supplementaire). Lancez la descente de gradient dessus"
   ]
  },
  {
   "cell_type": "code",
   "execution_count": 88,
   "metadata": {},
   "outputs": [
    {
     "name": "stdout",
     "output_type": "stream",
     "text": [
      "predictions de probabilites =  Variable containing:\n",
      " 0.5149\n",
      " 0.5149\n",
      " 0.7462\n",
      " 0.7462\n",
      " 0.7462\n",
      " 0.7462\n",
      " 0.3389\n",
      "[torch.FloatTensor of size 7]\n",
      "\n"
     ]
    }
   ],
   "source": [
    "# correction\n",
    "\n",
    "X = Variable(t.Tensor([5,5,12,12,12,12,0]))\n",
    "y = Variable(t.Tensor([1,0,1,1,1,0,0]))\n",
    "\n",
    "beta0 = Variable(t.Tensor([0]),requires_grad=True)\n",
    "beta1 = Variable(t.Tensor([0]),requires_grad=True)\n",
    "\n",
    "\n",
    "for epoch in range(100):\n",
    "    z = beta0+beta1*X\n",
    "    g = 1/(1+t.exp(-z))\n",
    "\n",
    "    e = -y*t.log(g)  - (1-y)*t.log(1-g)\n",
    "\n",
    "    e = t.mean(e)\n",
    "    \n",
    "    e.backward()\n",
    "\n",
    "    beta0.data -= 0.1 * beta0.grad.data\n",
    "    beta1.data -= 0.1 * beta1.grad.data\n",
    "\n",
    "    beta0.grad.data.zero_()\n",
    "    beta1.grad.data.zero_()\n",
    "\n",
    "print(\"predictions de probabilites = \",1/(1+t.exp(-(beta0+beta1*X))))"
   ]
  },
  {
   "cell_type": "markdown",
   "metadata": {},
   "source": [
    "#### Exercice 4 (regression lineaire multiple)\n",
    "\n",
    "Implementez la regression lineaire avec pyTorch sur les donnees de diabetes chargees ci-dessous. Ce dataset comporte 10 attributs decrivant le patient (age, sex, weight, blood pressure) et 442 patients."
   ]
  },
  {
   "cell_type": "code",
   "execution_count": 90,
   "metadata": {
    "collapsed": true
   },
   "outputs": [],
   "source": [
    "# Correction\n",
    "\n",
    "from sklearn import datasets\n",
    "\n",
    "X,y = datasets.load_diabetes(True)\n",
    "X   = np.hstack((np.ones((442,1)),X))\n",
    "\n",
    "n,d = X.shape\n",
    "\n",
    "X = Variable(t.Tensor(X))\n",
    "y = Variable(t.Tensor(y))"
   ]
  },
  {
   "cell_type": "code",
   "execution_count": 96,
   "metadata": {
    "collapsed": true
   },
   "outputs": [],
   "source": [
    "beta  = Variable(t.randn(d,1),requires_grad=True)\n",
    "\n",
    "for epoch in range(30):\n",
    "    z = t.mm(X,beta)\n",
    "    e = t.mean( (y-z)**2 )\n",
    "    \n",
    "    e.backward()\n",
    "\n",
    "    beta.data -= 0.1 * beta.grad.data\n",
    "    beta.grad.data.zero_()"
   ]
  }
 ],
 "metadata": {
  "kernelspec": {
   "display_name": "Python 3",
   "language": "python",
   "name": "python3"
  },
  "language_info": {
   "codemirror_mode": {
    "name": "ipython",
    "version": 3
   },
   "file_extension": ".py",
   "mimetype": "text/x-python",
   "name": "python",
   "nbconvert_exporter": "python",
   "pygments_lexer": "ipython3",
   "version": "3.6.1"
  }
 },
 "nbformat": 4,
 "nbformat_minor": 2
}
